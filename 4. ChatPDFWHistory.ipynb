{
 "cells": [
  {
   "cell_type": "code",
   "execution_count": 45,
   "metadata": {},
   "outputs": [],
   "source": [
    "from langchain_community.document_loaders import PyPDFLoader\n",
    "from langchain_community.chat_message_histories import ChatMessageHistory\n",
    "from langchain_community.vectorstores import FAISS\n",
    "from langchain_core.prompts import ChatPromptTemplate, MessagesPlaceholder\n",
    "from langchain_core.runnables.history import RunnableWithMessageHistory\n",
    "from langchain_core.chat_history import BaseChatMessageHistory\n",
    "from langchain.chains import create_history_aware_retriever\n",
    "from langchain.chains import create_retrieval_chain\n",
    "from langchain.chains.combine_documents import create_stuff_documents_chain\n",
    "from langchain_groq import ChatGroq\n",
    "from langchain_text_splitters import RecursiveCharacterTextSplitter\n",
    "from langchain_huggingface import HuggingFaceEmbeddings\n",
    "import streamlit as st\n",
    "\n",
    "\n",
    "def get_session_history(session_id:str)->BaseChatMessageHistory:\n",
    "    if session_id not in st.session_state.store:\n",
    "        st.session_state.store[session_id]=ChatMessageHistory()\n",
    "    return st.session_state.store[session_id]\n",
    "\n",
    "\n",
    "def get_docs_from_files(files):\n",
    "    documents=[]\n",
    "    for file in files:\n",
    "        filepath = file.name\n",
    "        with open(filepath,\"wb\") as f:\n",
    "            f.write(file.getvalue())\n",
    "\n",
    "        docs = PyPDFLoader(filepath).load()\n",
    "        documents.extend(docs)\n",
    "\n",
    "    return documents\n",
    "\n",
    "\n",
    "def get_vectorstore_from_files(files, HF_Embed_Model,):\n",
    "    # pdf_docs = get_docs_from_files(files)                 ##################\n",
    "    pdf_docs = get_docs_from_files_notebook(files)          ##################\n",
    "\n",
    "    split_docs=RecursiveCharacterTextSplitter(chunk_size=1500,chunk_overlap=150).split_documents(pdf_docs)\n",
    "    embeddings = HuggingFaceEmbeddings(model_name = HF_Embed_Model)\n",
    "    vectorestore = FAISS.from_documents(split_docs, embeddings)\n",
    "\n",
    "    return vectorestore\n",
    "\n",
    "\n",
    "\n",
    "\n",
    "def get_history_aware_retriever(vectorstore, llm):\n",
    "    # Create standalone question from current question + chat history\n",
    "    retriever = vectorstore.as_retriever()    \n",
    "    contextualize_q_system_prompt=(\n",
    "        \"Given a chat history and the latest user question\"\n",
    "        \"which might reference context in the chat history, \"\n",
    "        \"formulate a standalone question which can be understood \"\n",
    "        \"without the chat history. Do NOT answer the question, \"\n",
    "        \"just reformulate it if needed and otherwise return it as is.\"\n",
    "    )\n",
    "    contextualize_q_prompt = ChatPromptTemplate.from_messages(\n",
    "            [\n",
    "                (\"system\", contextualize_q_system_prompt),\n",
    "                MessagesPlaceholder(\"chat_history\"),\n",
    "                (\"human\", \"{input}\"),\n",
    "            ]\n",
    "        )\n",
    "    \n",
    "    history_aware_retriever=create_history_aware_retriever(llm,retriever,contextualize_q_prompt)\n",
    "\n",
    "    return history_aware_retriever\n",
    "\n",
    "\n",
    "\n",
    "\n",
    "def get_rag_chain(history_aware_retriever, llm):\n",
    "    # Create rag_chain to answer standalone question from history_aware_retriever\n",
    "    system_prompt = (\n",
    "            \"You are an assistant for question-answering tasks. \"\n",
    "            \"Use the following pieces of retrieved context to answer \"\n",
    "            \"the question. Do not use any outside knowledge.\"\n",
    "            \"\\n\\n\"\n",
    "            \"{context}\"\n",
    "        )\n",
    "    qa_prompt = ChatPromptTemplate.from_messages(\n",
    "            [\n",
    "                (\"system\", system_prompt),\n",
    "                MessagesPlaceholder(\"chat_history\"),\n",
    "                (\"human\", \"{input}\"),\n",
    "            ]\n",
    "        )\n",
    "    \n",
    "    question_answer_chain=create_stuff_documents_chain(llm,qa_prompt)\n",
    "    rag_chain=create_retrieval_chain(history_aware_retriever,question_answer_chain)\n",
    "\n",
    "    return rag_chain\n"
   ]
  },
  {
   "cell_type": "code",
   "execution_count": 54,
   "metadata": {},
   "outputs": [
    {
     "name": "stderr",
     "output_type": "stream",
     "text": [
      "d:\\Git\\LC_First\\envlc\\lib\\site-packages\\transformers\\tokenization_utils_base.py:1601: FutureWarning: `clean_up_tokenization_spaces` was not set. It will be set to `True` by default. This behavior will be depracted in transformers v4.45, and will be then set to `False` by default. For more details check this issue: https://github.com/huggingface/transformers/issues/31884\n",
      "  warnings.warn(\n"
     ]
    },
    {
     "data": {
      "text/plain": [
       "\"Here is a list of evidences required, compiled from the text you provided:\\n\\n**For Form I-485:**\\n\\n* **Evidence of Haitian nationality:**\\n    * Certificate of naturalization or certificate of citizenship issued by the Haitian government (if acquired outside of birth in Haiti).\\n* **Evidence of battery or extreme cruelty:**\\n    * Documents such as court documents, police reports, news articles, copies of reimbursement forms for travel to and from court, and affidavits of other witnesses or officials.\\n\\n**General Evidences (applicable to various aspects of the application):**\\n\\n* Two identical color passport-style photographs.\\n* Photocopy of a government-issued identity document with photograph. \\n* Proof of residence in the United States (affidavits with witness contact information preferred, but other supporting evidence encouraged).\\n* Affidavits from credible witnesses with personal knowledge of the applicant's residence in the United States.\\n\\n**Other Potential Evidences:**\\n\\nThe text mentions a wide range of documents that *may* be helpful, including:\\n\\n* Form I-94 Arrival-Departure Record\\n* Income tax records\\n* Mortgage deeds or leases\\n* Insurance premiums and policies\\n* Birth, marriage, and death certificates of immediate family members\\n* Medical records\\n* Bank records\\n* School records\\n* All types of receipts that contain identifying information about the applicant\\n* Census records\\n* Social Security records\\n* Newspaper articles concerning the applicant\\n* Employment records\\n* Military records\\n* Draft records\\n* Car registrations\\n* Union membership records \\n\\n\\n\\nLet me know if you have any other questions. \\n\\n\""
      ]
     },
     "execution_count": 54,
     "metadata": {},
     "output_type": "execute_result"
    }
   ],
   "source": [
    "LLM_Model=\"Gemma2-9b-It\"\n",
    "HF_Embed_Model = \"all-MiniLM-L6-v2\"\n",
    "groq_api_key = st.secrets[\"GROQ_API_KEY\"]\n",
    "session_id = 'Chat2'\n",
    "config = {\"configurable\": {\"session_id\":session_id}}\n",
    "store = {}\n",
    "\n",
    "\n",
    "def get_docs_from_files_notebook(filepath):\n",
    "    return PyPDFLoader(filepath).load()\n",
    "def get_session_history_notebook(session_id:str)->BaseChatMessageHistory:\n",
    "    if session_id not in store:\n",
    "        store[session_id]=ChatMessageHistory()\n",
    "    return store[session_id]\n",
    "\n",
    "\n",
    "\n",
    "llm=ChatGroq(groq_api_key=groq_api_key,model_name=LLM_Model)\n",
    "\n",
    "# files=st.file_uploader('upload here')                                       ##################\n",
    "files = 'Data/i-485instr.pdf'                                                 ##################\n",
    "vectorstore = get_vectorstore_from_files(files=files, HF_Embed_Model=HF_Embed_Model)\n",
    "history_aware_retriever = get_history_aware_retriever(vectorstore, llm)\n",
    "rag_chain = get_rag_chain(history_aware_retriever, llm)\n",
    "\n",
    "\n",
    "query = 'Provide the list of Evidences required'\n",
    "conversational_rag_chain=RunnableWithMessageHistory(rag_chain, get_session_history_notebook, input_messages_key=\"input\", history_messages_key=\"chat_history\", output_messages_key=\"answer\")\n",
    "response = conversational_rag_chain.invoke({\"input\": query}, config=config)\n",
    "response['answer']"
   ]
  },
  {
   "cell_type": "code",
   "execution_count": 55,
   "metadata": {},
   "outputs": [
    {
     "data": {
      "text/plain": [
       "\"You are right to ask! While the provided text focuses heavily on family-based categories like VAWA and derivative family members, it also touches upon other categories like crime victim (U Nonimmigrant) which are not strictly family-based. \\n\\nSo, the evidence list isn't *exclusively* family-based. \\n\\n\\nLet me know if you have more questions about specific categories or types of evidence. \\n\\n\""
      ]
     },
     "execution_count": 55,
     "metadata": {},
     "output_type": "execute_result"
    }
   ],
   "source": [
    "query = 'Are these all family based?'\n",
    "conversational_rag_chain=RunnableWithMessageHistory(rag_chain, get_session_history_notebook, input_messages_key=\"input\", history_messages_key=\"chat_history\", output_messages_key=\"answer\")\n",
    "response = conversational_rag_chain.invoke({\"input\": query}, config=config)\n",
    "response['answer']"
   ]
  },
  {
   "cell_type": "code",
   "execution_count": 56,
   "metadata": {},
   "outputs": [
    {
     "data": {
      "text/plain": [
       "'Here are the family-based evidence requirements mentioned in the text:\\n\\n* **Evidence of Haitian nationality:** (for HRIFA dependents)\\n* **Evidence that the qualifying relationship to the principal existed at the time the principal was granted adjustment of status and that the relationship still exists:** (for HRIFA dependents) \\n* **Evidence of battery or extreme cruelty:** (Applicable to abused spouses and children)\\n* **Marriage certificate (or divorce certificate or death certificate):** (For abused spouses and children under HRIFA, and other categories like K-1)\\n* **Photocopy of your parents’ marriage certificate, your adoption certificate, or other proof of your parent-child relationship with the principal applicant:** (For derivative applicant children who are not refugees)\\n\\n\\n\\n\\nLet me know if you have any more questions!\\n'"
      ]
     },
     "execution_count": 56,
     "metadata": {},
     "output_type": "execute_result"
    }
   ],
   "source": [
    "query = 'Provide only those which are family based in a list'\n",
    "conversational_rag_chain=RunnableWithMessageHistory(rag_chain, get_session_history_notebook, input_messages_key=\"input\", history_messages_key=\"chat_history\", output_messages_key=\"answer\")\n",
    "response = conversational_rag_chain.invoke({\"input\": query}, config=config)\n",
    "response['answer']"
   ]
  },
  {
   "cell_type": "code",
   "execution_count": 60,
   "metadata": {},
   "outputs": [
    {
     "data": {
      "text/plain": [
       "{'Chat2': InMemoryChatMessageHistory(messages=[HumanMessage(content='Provide the list of Evidences required'), AIMessage(content=\"Here is a list of evidences required, compiled from the text you provided:\\n\\n**For Form I-485:**\\n\\n* **Evidence of Haitian nationality:**\\n    * Certificate of naturalization or certificate of citizenship issued by the Haitian government (if acquired outside of birth in Haiti).\\n* **Evidence of battery or extreme cruelty:**\\n    * Documents such as court documents, police reports, news articles, copies of reimbursement forms for travel to and from court, and affidavits of other witnesses or officials.\\n\\n**General Evidences (applicable to various aspects of the application):**\\n\\n* Two identical color passport-style photographs.\\n* Photocopy of a government-issued identity document with photograph. \\n* Proof of residence in the United States (affidavits with witness contact information preferred, but other supporting evidence encouraged).\\n* Affidavits from credible witnesses with personal knowledge of the applicant's residence in the United States.\\n\\n**Other Potential Evidences:**\\n\\nThe text mentions a wide range of documents that *may* be helpful, including:\\n\\n* Form I-94 Arrival-Departure Record\\n* Income tax records\\n* Mortgage deeds or leases\\n* Insurance premiums and policies\\n* Birth, marriage, and death certificates of immediate family members\\n* Medical records\\n* Bank records\\n* School records\\n* All types of receipts that contain identifying information about the applicant\\n* Census records\\n* Social Security records\\n* Newspaper articles concerning the applicant\\n* Employment records\\n* Military records\\n* Draft records\\n* Car registrations\\n* Union membership records \\n\\n\\n\\nLet me know if you have any other questions. \\n\\n\"), HumanMessage(content='Are these all family based?'), AIMessage(content=\"You are right to ask! While the provided text focuses heavily on family-based categories like VAWA and derivative family members, it also touches upon other categories like crime victim (U Nonimmigrant) which are not strictly family-based. \\n\\nSo, the evidence list isn't *exclusively* family-based. \\n\\n\\nLet me know if you have more questions about specific categories or types of evidence. \\n\\n\"), HumanMessage(content='Provide only those which are family based in a list'), AIMessage(content='Here are the family-based evidence requirements mentioned in the text:\\n\\n* **Evidence of Haitian nationality:** (for HRIFA dependents)\\n* **Evidence that the qualifying relationship to the principal existed at the time the principal was granted adjustment of status and that the relationship still exists:** (for HRIFA dependents) \\n* **Evidence of battery or extreme cruelty:** (Applicable to abused spouses and children)\\n* **Marriage certificate (or divorce certificate or death certificate):** (For abused spouses and children under HRIFA, and other categories like K-1)\\n* **Photocopy of your parents’ marriage certificate, your adoption certificate, or other proof of your parent-child relationship with the principal applicant:** (For derivative applicant children who are not refugees)\\n\\n\\n\\n\\nLet me know if you have any more questions!\\n')]),\n",
       " 'Chat1': InMemoryChatMessageHistory(messages=[HumanMessage(content='Fetch important list of dates from this document'), AIMessage(content=\"Here are the important dates mentioned in the text:\\n\\n* **April 30, 2013:**  This is the cutoff date for when travelers entering the U.S. by land, air, or sea would have received a paper Form I-94.  \\n\\n\\nLet me know if you'd like me to look for anything else! \\n\"), HumanMessage(content='Are there any recent ones?'), AIMessage(content='You are right! I missed a few. \\n\\nHere are the more recent dates:\\n\\n* **04/01/24:** This is the effective date for the Form I-485 Instructions.\\n* **12/18/2023:** This is the date the document was drafted. \\n\\n\\nLet me know if you have any other questions. \\n')])}"
      ]
     },
     "execution_count": 60,
     "metadata": {},
     "output_type": "execute_result"
    }
   ],
   "source": [
    "store"
   ]
  },
  {
   "cell_type": "code",
   "execution_count": 59,
   "metadata": {},
   "outputs": [
    {
     "data": {
      "text/plain": [
       "'You are right! I missed a few. \\n\\nHere are the more recent dates:\\n\\n* **04/01/24:** This is the effective date for the Form I-485 Instructions.\\n* **12/18/2023:** This is the date the document was drafted. \\n\\n\\nLet me know if you have any other questions. \\n'"
      ]
     },
     "execution_count": 59,
     "metadata": {},
     "output_type": "execute_result"
    }
   ],
   "source": [
    "session_id = 'Chat1'\n",
    "config = {\"configurable\": {\"session_id\":session_id}}\n",
    "query = 'Are there any recent ones?'\n",
    "conversational_rag_chain=RunnableWithMessageHistory(rag_chain, get_session_history_notebook, input_messages_key=\"input\", history_messages_key=\"chat_history\", output_messages_key=\"answer\")\n",
    "response = conversational_rag_chain.invoke({\"input\": query}, config=config)\n",
    "response['answer']"
   ]
  },
  {
   "cell_type": "code",
   "execution_count": 52,
   "metadata": {},
   "outputs": [],
   "source": [
    "from langchain_core.runnables.history import RunnableWithMessageHistory\n",
    "\n",
    "\n",
    "def get_response(rag_chain, query, session_id):\n",
    "    conversational_rag_chain=RunnableWithMessageHistory(\n",
    "        rag_chain,get_session_history_notebook,\n",
    "        input_messages_key=\"input\",\n",
    "        history_messages_key=\"chat_history\",\n",
    "        output_messages_key=\"answer\"\n",
    "    )\n",
    "\n",
    "    response = conversational_rag_chain.invoke(\n",
    "        {\"input\": query},\n",
    "        config={\n",
    "            \"configurable\": {\"session_id\":session_id}\n",
    "        },  # constructs a key \"abc123\" in `store`.\n",
    "    )\n",
    "\n",
    "    return response['answer']"
   ]
  },
  {
   "cell_type": "code",
   "execution_count": null,
   "metadata": {},
   "outputs": [],
   "source": []
  },
  {
   "cell_type": "code",
   "execution_count": null,
   "metadata": {},
   "outputs": [],
   "source": []
  },
  {
   "cell_type": "code",
   "execution_count": null,
   "metadata": {},
   "outputs": [],
   "source": []
  },
  {
   "cell_type": "code",
   "execution_count": null,
   "metadata": {},
   "outputs": [],
   "source": []
  }
 ],
 "metadata": {
  "kernelspec": {
   "display_name": "Python 3",
   "language": "python",
   "name": "python3"
  },
  "language_info": {
   "codemirror_mode": {
    "name": "ipython",
    "version": 3
   },
   "file_extension": ".py",
   "mimetype": "text/x-python",
   "name": "python",
   "nbconvert_exporter": "python",
   "pygments_lexer": "ipython3",
   "version": "3.10.0"
  }
 },
 "nbformat": 4,
 "nbformat_minor": 2
}
